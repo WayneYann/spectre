{
 "cells": [
  {
   "cell_type": "code",
   "execution_count": 2,
   "metadata": {},
   "outputs": [],
   "source": [
    "import overreact as rx\n",
    "from overreact import _constants as constants\n",
    "import pandas as pd\n",
    "import numpy as np\n",
    "import warnings\n",
    "from scipy.integrate import solve_ivp\n",
    "import matplotlib.pyplot as plt\n",
    "import subprocess as sp\n",
    "import argparse\n",
    "import random\n",
    "import glob\n",
    "import sys\n",
    "import os"
   ]
  },
  {
   "attachments": {},
   "cell_type": "markdown",
   "metadata": {},
   "source": [
    "# loading data"
   ]
  },
  {
   "cell_type": "code",
   "execution_count": 3,
   "metadata": {},
   "outputs": [
    {
     "ename": "FileNotFoundError",
     "evalue": "Rp_2.txt not found.",
     "output_type": "error",
     "traceback": [
      "\u001b[0;31m---------------------------------------------------------------------------\u001b[0m",
      "\u001b[0;31mFileNotFoundError\u001b[0m                         Traceback (most recent call last)",
      "Cell \u001b[0;32mIn[3], line 3\u001b[0m\n\u001b[1;32m      1\u001b[0m all_rxndata \u001b[39m=\u001b[39m [\u001b[39m\"\u001b[39m\u001b[39mreaction_data_pathA.csv\u001b[39m\u001b[39m\"\u001b[39m, \u001b[39m\"\u001b[39m\u001b[39mreaction_data_pathB.csv\u001b[39m\u001b[39m\"\u001b[39m]\n\u001b[1;32m      2\u001b[0m df_network \u001b[39m=\u001b[39m pd\u001b[39m.\u001b[39mread_csv(\u001b[39m\"\u001b[39m\u001b[39mrxn_network.csv\u001b[39m\u001b[39m\"\u001b[39m)\n\u001b[0;32m----> 3\u001b[0m Rp \u001b[39m=\u001b[39m np\u001b[39m.\u001b[39;49mloadtxt(\u001b[39m\"\u001b[39;49m\u001b[39mRp_2.txt\u001b[39;49m\u001b[39m\"\u001b[39;49m)\n\u001b[1;32m      4\u001b[0m Pp \u001b[39m=\u001b[39m np\u001b[39m.\u001b[39mloadtxt(\u001b[39m\"\u001b[39m\u001b[39mPp_2.txt\u001b[39m\u001b[39m\"\u001b[39m)\n\u001b[1;32m      6\u001b[0m \u001b[39m# loading the data\u001b[39;00m\n",
      "File \u001b[0;32m~/anaconda3/envs/spectre/lib/python3.10/site-packages/numpy/lib/npyio.py:1348\u001b[0m, in \u001b[0;36mloadtxt\u001b[0;34m(fname, dtype, comments, delimiter, converters, skiprows, usecols, unpack, ndmin, encoding, max_rows, quotechar, like)\u001b[0m\n\u001b[1;32m   1345\u001b[0m \u001b[39mif\u001b[39;00m \u001b[39misinstance\u001b[39m(delimiter, \u001b[39mbytes\u001b[39m):\n\u001b[1;32m   1346\u001b[0m     delimiter \u001b[39m=\u001b[39m delimiter\u001b[39m.\u001b[39mdecode(\u001b[39m'\u001b[39m\u001b[39mlatin1\u001b[39m\u001b[39m'\u001b[39m)\n\u001b[0;32m-> 1348\u001b[0m arr \u001b[39m=\u001b[39m _read(fname, dtype\u001b[39m=\u001b[39;49mdtype, comment\u001b[39m=\u001b[39;49mcomment, delimiter\u001b[39m=\u001b[39;49mdelimiter,\n\u001b[1;32m   1349\u001b[0m             converters\u001b[39m=\u001b[39;49mconverters, skiplines\u001b[39m=\u001b[39;49mskiprows, usecols\u001b[39m=\u001b[39;49musecols,\n\u001b[1;32m   1350\u001b[0m             unpack\u001b[39m=\u001b[39;49munpack, ndmin\u001b[39m=\u001b[39;49mndmin, encoding\u001b[39m=\u001b[39;49mencoding,\n\u001b[1;32m   1351\u001b[0m             max_rows\u001b[39m=\u001b[39;49mmax_rows, quote\u001b[39m=\u001b[39;49mquotechar)\n\u001b[1;32m   1353\u001b[0m \u001b[39mreturn\u001b[39;00m arr\n",
      "File \u001b[0;32m~/anaconda3/envs/spectre/lib/python3.10/site-packages/numpy/lib/npyio.py:975\u001b[0m, in \u001b[0;36m_read\u001b[0;34m(fname, delimiter, comment, quote, imaginary_unit, usecols, skiplines, max_rows, converters, ndmin, unpack, dtype, encoding)\u001b[0m\n\u001b[1;32m    973\u001b[0m     fname \u001b[39m=\u001b[39m os\u001b[39m.\u001b[39mfspath(fname)\n\u001b[1;32m    974\u001b[0m \u001b[39mif\u001b[39;00m \u001b[39misinstance\u001b[39m(fname, \u001b[39mstr\u001b[39m):\n\u001b[0;32m--> 975\u001b[0m     fh \u001b[39m=\u001b[39m np\u001b[39m.\u001b[39;49mlib\u001b[39m.\u001b[39;49m_datasource\u001b[39m.\u001b[39;49mopen(fname, \u001b[39m'\u001b[39;49m\u001b[39mrt\u001b[39;49m\u001b[39m'\u001b[39;49m, encoding\u001b[39m=\u001b[39;49mencoding)\n\u001b[1;32m    976\u001b[0m     \u001b[39mif\u001b[39;00m encoding \u001b[39mis\u001b[39;00m \u001b[39mNone\u001b[39;00m:\n\u001b[1;32m    977\u001b[0m         encoding \u001b[39m=\u001b[39m \u001b[39mgetattr\u001b[39m(fh, \u001b[39m'\u001b[39m\u001b[39mencoding\u001b[39m\u001b[39m'\u001b[39m, \u001b[39m'\u001b[39m\u001b[39mlatin1\u001b[39m\u001b[39m'\u001b[39m)\n",
      "File \u001b[0;32m~/anaconda3/envs/spectre/lib/python3.10/site-packages/numpy/lib/_datasource.py:193\u001b[0m, in \u001b[0;36mopen\u001b[0;34m(path, mode, destpath, encoding, newline)\u001b[0m\n\u001b[1;32m    156\u001b[0m \u001b[39m\u001b[39m\u001b[39m\"\"\"\u001b[39;00m\n\u001b[1;32m    157\u001b[0m \u001b[39mOpen `path` with `mode` and return the file object.\u001b[39;00m\n\u001b[1;32m    158\u001b[0m \n\u001b[0;32m   (...)\u001b[0m\n\u001b[1;32m    189\u001b[0m \n\u001b[1;32m    190\u001b[0m \u001b[39m\"\"\"\u001b[39;00m\n\u001b[1;32m    192\u001b[0m ds \u001b[39m=\u001b[39m DataSource(destpath)\n\u001b[0;32m--> 193\u001b[0m \u001b[39mreturn\u001b[39;00m ds\u001b[39m.\u001b[39;49mopen(path, mode, encoding\u001b[39m=\u001b[39;49mencoding, newline\u001b[39m=\u001b[39;49mnewline)\n",
      "File \u001b[0;32m~/anaconda3/envs/spectre/lib/python3.10/site-packages/numpy/lib/_datasource.py:533\u001b[0m, in \u001b[0;36mDataSource.open\u001b[0;34m(self, path, mode, encoding, newline)\u001b[0m\n\u001b[1;32m    530\u001b[0m     \u001b[39mreturn\u001b[39;00m _file_openers[ext](found, mode\u001b[39m=\u001b[39mmode,\n\u001b[1;32m    531\u001b[0m                               encoding\u001b[39m=\u001b[39mencoding, newline\u001b[39m=\u001b[39mnewline)\n\u001b[1;32m    532\u001b[0m \u001b[39melse\u001b[39;00m:\n\u001b[0;32m--> 533\u001b[0m     \u001b[39mraise\u001b[39;00m \u001b[39mFileNotFoundError\u001b[39;00m(\u001b[39mf\u001b[39m\u001b[39m\"\u001b[39m\u001b[39m{\u001b[39;00mpath\u001b[39m}\u001b[39;00m\u001b[39m not found.\u001b[39m\u001b[39m\"\u001b[39m)\n",
      "\u001b[0;31mFileNotFoundError\u001b[0m: Rp_2.txt not found."
     ]
    }
   ],
   "source": [
    "all_rxndata = [\"reaction_data_pathA.csv\", \"reaction_data_pathB.csv\"]\n",
    "df_network = pd.read_csv(\"rxn_network.csv\")\n",
    "Rp = np.loadtxt(\"Rp_2.txt\")\n",
    "Pp = np.loadtxt(\"Pp_2.txt\")\n",
    "\n",
    "# loading the data\n",
    "energy_profile_all = []; dgr_all = []; coeff_TS_all = []\n",
    "\n",
    "for rxn_data in all_rxndata:\n",
    "    df = pd.read_csv(rxn_data)\n",
    "    energy_profile = df.values[0][1:-1]\n",
    "    rxn_species = df.columns.to_list()[1:-1]\n",
    "    dgr_all.append(df.values[0][-1])\n",
    "    coeff_TS = [1 if \"TS\" in element else 0 for element in rxn_species]\n",
    "    coeff_TS_all.append(np.array(coeff_TS))\n",
    "    energy_profile_all.append(np.array(energy_profile))\n",
    "    \n",
    "rxn_network = df_network.to_numpy()[:,1:]\n",
    "\n",
    "# computing the reaction rate for all steps   \n",
    "k_forward_all = []; k_reverse_all = []\n",
    "\n",
    "for i in range(len(energy_profile_all)):\n",
    "    k_forward, k_reverse = get_k(energy_profile_all[i], dgr_all[i], coeff_TS_all[i], temperature = 298.15)\n",
    "    k_forward_all.append(k_forward); k_reverse_all.append(k_reverse)   \n",
    "\n",
    "if Rp.ndim == 1:\n",
    "    Rp = Rp.reshape(len(Rp),1)\n",
    "if Pp.ndim == 1:\n",
    "    Pp = Pp.reshape(len(Pp),1)\n",
    " \n",
    "lengths = [len(arr) for arr in k_forward_all]\n",
    "Rp_ = np.array_split(Rp, np.cumsum(lengths)[:-1], axis=0)\n",
    "Pp_ = np.array_split(Pp, np.cumsum(lengths)[:-1], axis=0)\n",
    "\n",
    "toko = [Rp.copy() for Rp in Rp_]\n",
    "for i in range(len(toko)):\n",
    "    toko[i][toko[i] != 0] = 1\n",
    "nR_all = np.sum(np.sum(np.isin(toko[:],1), axis=1), axis=1)\n",
    "\n",
    "toko = [Pp.copy() for Pp in Pp_]\n",
    "for i in range(len(toko)):\n",
    "    toko[i][toko[i] != 0] = 1\n",
    "nP_all = np.sum(np.sum(np.isin(toko[:],1), axis=1), axis=1)\n",
    "\n",
    "#TODO fix this\n",
    "# n_INT_all = []; k_all = []\n",
    "# for i in range(len(energy_profile_all)):\n",
    "#     n_INT = np.count_nonzero(coeff_TS_all[i] == 0)\n",
    "#     n_INT_all.append(n_INT)\n",
    "#     k_all.append(n_INT + Rp.shape[1] + Pp.shape[1])\n",
    "\n",
    "\n",
    "n_INT_all = []\n",
    "x = 1\n",
    "for i in range(1, rxn_network.shape[0]):\n",
    "    if rxn_network[i, i-1] == -1: x += 1\n",
    "    elif rxn_network[i, i-1] == 0:\n",
    "        n_INT_all.append(x)\n",
    "        x = 1\n",
    "n_INT_all.append(x)\n",
    "n_INT_all = np.array(n_INT_all)\n",
    "\n",
    "\n",
    "y = [1, 2, 3, 4, 5, 6, 7, 8, 9, 10, 11, 12, 13, 14]"
   ]
  },
  {
   "attachments": {},
   "cell_type": "markdown",
   "metadata": {},
   "source": [
    "# KM v2"
   ]
  },
  {
   "cell_type": "markdown",
   "metadata": {},
   "source": [
    "Input for KM_2\n",
    "1. k_forward_all\n",
    "2. k_reverse_all\n",
    "3. k_all\n",
    "4. n_INT_all\n",
    "5. Rp*\n",
    "6. Pp*\n",
    "7. rxn_network*\n",
    "\n",
    "\n",
    "*: initial input"
   ]
  },
  {
   "attachments": {},
   "cell_type": "markdown",
   "metadata": {},
   "source": [
    "## dINTa_dt"
   ]
  },
  {
   "cell_type": "code",
   "execution_count": 3,
   "metadata": {},
   "outputs": [],
   "source": [
    "def add_rate(y, k_forward_all, k_reverse_all, rxn_network, Rp_, Pp_, a, cn, n_INT_all):\n",
    "    \"\"\"\n",
    "    a = index of the intermediate, product of the elementary step [0,1,2,...,k-1]\n",
    "    cn = number of cycle that the step is a part of [0,1,2,...]\n",
    "    \n",
    "    \"\"\"\n",
    "    \n",
    "    y_INT = []\n",
    "    tmp = y[:np.sum(n_INT_all)]\n",
    "    y_INT = np.array_split(tmp, np.cumsum(n_INT_all)[:-1])\n",
    "    # the first profile is assumed to be full, skipped\n",
    "    for i in range(len(k_forward_all)-1): # n_profile - 1\n",
    "        i += 1\n",
    "        # scaning rxn network column\n",
    "        for j in range(rxn_network.shape[0]):\n",
    "            if j >= np.cumsum(n_INT_all)[i-1] and j <= np.cumsum(n_INT_all)[i]: continue\n",
    "            else: \n",
    "                if np.any(rxn_network[np.cumsum(n_INT_all)[i-1]:np.cumsum(n_INT_all)[i],j]): \n",
    "                    y_INT[i] = np.insert(y_INT[i], j, tmp[j])\n",
    "    \n",
    "    y_R = np.array(y[np.sum(n_INT_all):np.sum(n_INT_all)+Rp_[0].shape[1]])\n",
    "    y_P = np.array(y[np.sum(n_INT_all)+Rp_[0].shape[1]:])\n",
    "\n",
    "    星町 = 0\n",
    "    idx1 = np.where(Rp_[cn][a-1] != 0)[0]\n",
    "    if idx1.size == 0: sui = 1\n",
    "    else:\n",
    "        常闇 = Rp_[cn][a-1]*y_R[idx1].astype(float)\n",
    "        常闇 = np.where(常闇 == 0, 1, 常闇)\n",
    "        sui = np.prod(常闇)  \n",
    "    星町 += k_forward_all[cn][a-1]*y_INT[cn][a-1]*sui\n",
    "    \n",
    "    idx2 = np.where(Pp_[cn][a-1] != 0)[0]\n",
    "    if idx2.size == 0: sui = 1\n",
    "    else:\n",
    "        常闇 = Pp_[cn][a-1]*y_P[idx2].astype(float)\n",
    "        常闇 = np.where(常闇 == 0, 1, 常闇)\n",
    "        sui = np.prod(常闇)  \n",
    "    星町 -= k_reverse_all[cn][a-1]*y_INT[cn][a]*sui\n",
    "   \n",
    "    return 星町\n",
    "\n",
    "\n",
    "def dINTa_dt(y, k_forward_all, k_reverse_all, rxn_network, Rp_, Pp_, a, cn,  n_INT_all):\n",
    "    \n",
    "    星町 = 0\n",
    "    for i in range(rxn_network.shape[0]):\n",
    "        \n",
    "        # finding a right column\n",
    "        mori = np.cumsum(n_INT_all) \n",
    "        a_ = a\n",
    "        if cn > 0:\n",
    "            if cn == 1: tmp = np.count_nonzero(rxn_network[mori[cn-1]:mori[cn], 0:mori[cn-1]], axis =1)\n",
    "            else: tmp = np.count_nonzero(rxn_network[mori[cn-1]:mori[cn], mori[cn-2]:mori[cn-1]], axis =1)\n",
    "            incr = np.count_nonzero(tmp)\n",
    "            a_ = a + mori[cn-1] - incr\n",
    "\n",
    "\n",
    "        # assigning cn\n",
    "        aki = [np.searchsorted(mori, i, side='right'), np.searchsorted(mori, a_, side='right')]\n",
    "        cn_ = max(aki)\n",
    "                \n",
    "        if rxn_network[i,a_] == -1:\n",
    "            try:\n",
    "                星町 -= add_rate(y, k_forward_all, k_reverse_all, rxn_network, Rp_, Pp_, a+1, cn_, n_INT_all)\n",
    "            except IndexError as e:\n",
    "                星町 -= add_rate(y, k_forward_all, k_reverse_all, rxn_network, Rp_, Pp_, 0, cn_, n_INT_all)\n",
    "        elif rxn_network[i,a_] == 1:\n",
    "            星町 += add_rate(y, k_forward_all, k_reverse_all, rxn_network, Rp_, Pp_, a, cn_, n_INT_all)\n",
    "        elif  rxn_network[i,a_] == 0: pass\n",
    "        \n",
    "    return 星町\n",
    "            "
   ]
  },
  {
   "attachments": {},
   "cell_type": "markdown",
   "metadata": {},
   "source": [
    "### test\n",
    "\n",
    "- `add_rate` is good\n",
    "- the first cycle is good\n",
    "\n",
    "**INT in cn > 0 cycles are still problematic**\n",
    "- to find x: done\n",
    "- incorrectly assign cn_: done\n",
    "\n",
    "**To test above**"
   ]
  },
  {
   "cell_type": "code",
   "execution_count": 4,
   "metadata": {},
   "outputs": [],
   "source": [
    "y_INT = []\n",
    "tmp = y[:np.sum(n_INT_all)]\n",
    "y_INT = np.array_split(tmp, np.cumsum(n_INT_all)[:-1])\n",
    "# the first profile is assumed to be full, skipped\n",
    "for i in range(len(k_forward_all)-1): # n_profile - 1\n",
    "    i += 1\n",
    "    # scaning rxn network column\n",
    "    for j in range(rxn_network.shape[0]):\n",
    "        if j >= np.cumsum(n_INT_all)[i-1] and j <= np.cumsum(n_INT_all)[i]: continue\n",
    "        else: \n",
    "            if np.any(rxn_network[np.cumsum(n_INT_all)[i-1]:np.cumsum(n_INT_all)[i],j]): \n",
    "                y_INT[i] = np.insert(y_INT[i], j, tmp[j])\n",
    "\n",
    "y_R = np.array(y[np.sum(n_INT_all):np.sum(n_INT_all)+Rp_[0].shape[1]])\n",
    "y_P = np.array(y[np.sum(n_INT_all)+Rp_[0].shape[1]:])"
   ]
  },
  {
   "cell_type": "code",
   "execution_count": 5,
   "metadata": {},
   "outputs": [
    {
     "name": "stdout",
     "output_type": "stream",
     "text": [
      "k1 0.09418769845116441 clear\n",
      "k2 -18636817083388.95 clear\n",
      "k3-6680709949402.127 clear\n"
     ]
    }
   ],
   "source": [
    "k1 = add_rate(y, k_forward_all, k_reverse_all, rxn_network, Rp_, Pp_, 1, 0, n_INT_all)\n",
    "k1_true = k_forward_all[0][0]*y_INT[0][0]*y_R[0] - k_reverse_all[0][0]*y_INT[0][1] \n",
    "\n",
    "k2_true = k_forward_all[0][1]*y_INT[0][1]  - k_reverse_all[0][1]*y_INT[0][2]\n",
    "k2 = add_rate(y, k_forward_all, k_reverse_all, rxn_network, Rp_, Pp_, 2, 0, n_INT_all)\n",
    "\n",
    "k3_true = - k_forward_all[1][1]*y_INT[0][1] + k_reverse_all[1][1]*y_INT[1][2]\n",
    "k3 = -add_rate(y, k_forward_all, k_reverse_all, rxn_network, Rp_, Pp_, 2, 1, n_INT_all)\n",
    "\n",
    "if k1 == k1_true: print(f\"k1 {k1} clear\")\n",
    "if k2 == k2_true: print(f\"k2 {k2} clear\")\n",
    "if k3 == k3_true: print(f\"k3{k3} clear\")"
   ]
  },
  {
   "cell_type": "code",
   "execution_count": 6,
   "metadata": {},
   "outputs": [
    {
     "data": {
      "text/plain": [
       "0.00390625"
      ]
     },
     "execution_count": 6,
     "metadata": {},
     "output_type": "execute_result"
    }
   ],
   "source": [
    "# test\n",
    "# INT1\n",
    "true_INT1 = k_forward_all[0][0]*y_INT[0][0]*y_R[0] - k_reverse_all[0][0]*y_INT[0][1] \\\n",
    "        - k_forward_all[0][1]*y_INT[0][1]  + k_reverse_all[0][1]*y_INT[0][2] \\\n",
    "        - k_forward_all[1][1]*y_INT[0][1] + k_reverse_all[1][1]*y_INT[1][2]\n",
    "true_INT1 - dINTa_dt(y, k_forward_all, k_reverse_all, rxn_network, Rp_, Pp_, 1, 0, n_INT_all)"
   ]
  },
  {
   "cell_type": "code",
   "execution_count": 7,
   "metadata": {},
   "outputs": [
    {
     "data": {
      "text/plain": [
       "0.0"
      ]
     },
     "execution_count": 7,
     "metadata": {},
     "output_type": "execute_result"
    }
   ],
   "source": [
    "# At INT0\n",
    "true_INT0 = -k_forward_all[0][0]*y_INT[0][0]*y_R[0] + k_reverse_all[0][0]*y_INT[0][1] \\\n",
    "        + k_forward_all[0][3]*y_INT[0][3]  - k_reverse_all[0][3]*y_INT[0][0]*y_P[0] \\\n",
    "        + k_forward_all[1][3]*y_INT[1][3]  - k_reverse_all[1][3]*y_INT[0][0]*y_P[1] \n",
    "true_INT0 - dINTa_dt(y, k_forward_all, k_reverse_all, rxn_network, Rp_, Pp_, 0, 0, n_INT_all)"
   ]
  },
  {
   "cell_type": "code",
   "execution_count": 8,
   "metadata": {},
   "outputs": [
    {
     "data": {
      "text/plain": [
       "0.0"
      ]
     },
     "execution_count": 8,
     "metadata": {},
     "output_type": "execute_result"
    }
   ],
   "source": [
    "# INT2'\n",
    "\n",
    "true_INT2p = k_forward_all[1][1]*y_INT[0][1] - k_reverse_all[1][1]*y_INT[1][2] \\\n",
    "        - k_forward_all[1][2]*y_INT[1][2]*y_R[1]  + k_reverse_all[1][2]*y_INT[1][3] \\\n",
    "\n",
    "\n",
    "dINTa_dt(y, k_forward_all, k_reverse_all, rxn_network, Rp_, Pp_, 2, 1, n_INT_all) - true_INT2p"
   ]
  },
  {
   "cell_type": "code",
   "execution_count": 9,
   "metadata": {},
   "outputs": [
    {
     "data": {
      "text/plain": [
       "0.0"
      ]
     },
     "execution_count": 9,
     "metadata": {},
     "output_type": "execute_result"
    }
   ],
   "source": [
    "# INT3\n",
    "\n",
    "true_INT3 = - k_forward_all[0][3]*y_INT[0][3] + k_reverse_all[0][3]*y_INT[0][0]*y_P[0] \\\n",
    "        + k_forward_all[0][2]*y_INT[0][2]*y_R[1] - k_reverse_all[0][2]*y_INT[0][3]\n",
    "\n",
    "dINTa_dt(y, k_forward_all, k_reverse_all, rxn_network, Rp_, Pp_, 3, 0, n_INT_all) - true_INT3"
   ]
  },
  {
   "attachments": {},
   "cell_type": "markdown",
   "metadata": {},
   "source": [
    "test clear!!"
   ]
  },
  {
   "attachments": {},
   "cell_type": "markdown",
   "metadata": {},
   "source": [
    "## dPa_dt and  dRa_dt\n",
    "\n",
    "\n",
    "1. scan Pp and Rp\n",
    "2. from there, extract right indices of reaction step\n",
    "3. then use `add_rate`"
   ]
  },
  {
   "cell_type": "code",
   "execution_count": 10,
   "metadata": {},
   "outputs": [],
   "source": [
    "# assume that Rs themselves do not become product of the cycle\n",
    "def dRa_dt(y, k_forward_all, k_reverse_all, rxn_network, Rp_, Pp_, a, n_INT_all):\n",
    "    \n",
    "    星町 = 0\n",
    "        \n",
    "    all_rate = []\n",
    "    for i in range(Rp.shape[0]):\n",
    "        \n",
    "        if Rp[i, a] == 1:\n",
    "            mori = np.cumsum(np.array([len(k_forward) for k_forward in k_forward_all]))\n",
    "            cn_ = np.searchsorted(mori, i, side='right')\n",
    "            if cn_ > 0: a_ = i + 1 - mori[cn_-1]\n",
    "            elif cn_ == 0: a_ = i + 1\n",
    "            \n",
    "            rate_a = add_rate(y, k_forward_all, k_reverse_all, rxn_network, Rp_, Pp_, a_, cn_, n_INT_all)\n",
    "            if rate_a not in all_rate:\n",
    "                all_rate.append(rate_a)\n",
    "                星町 -= add_rate(y, k_forward_all, k_reverse_all, rxn_network, Rp_, Pp_, a_, cn_, n_INT_all)\n",
    "            else:\n",
    "                pass\n",
    "            \n",
    "    return 星町\n",
    "            \n",
    "def dPa_dt(y, k_forward_all, k_reverse_all, rxn_network, Rp_, Pp_, a, n_INT_all):\n",
    "    \n",
    "    星町 = 0\n",
    "        \n",
    "    for i in range(Rp.shape[0]):\n",
    "        if Pp[i, a] == 1:\n",
    "            mori = np.cumsum(np.array([len(k_forward) for k_forward in k_forward_all]))\n",
    "            cn_ = np.searchsorted(mori, i, side='right')\n",
    "            if cn_ > 0: a_ = i + 1 - mori[cn_-1]\n",
    "            elif cn_ == 0: a_ = i + 1\n",
    "            \n",
    "            try:\n",
    "                星町 += add_rate(y, k_forward_all, k_reverse_all, rxn_network, Rp_, Pp_, a_, cn_, n_INT_all)\n",
    "            except IndexError as e:\n",
    "                星町 += add_rate(y, k_forward_all, k_reverse_all, rxn_network, Rp_, Pp_, 0, cn_, n_INT_all)\n",
    "        \n",
    "    return 星町\n",
    "            "
   ]
  },
  {
   "attachments": {},
   "cell_type": "markdown",
   "metadata": {},
   "source": [
    "### test"
   ]
  },
  {
   "cell_type": "code",
   "execution_count": 11,
   "metadata": {},
   "outputs": [],
   "source": [
    "dP1_true = k_forward_all[0][3]*y_INT[0][3] - k_reverse_all[0][3]*y_INT[0][0]*y_P[0]\n",
    "dP2_true = k_forward_all[1][3]*y_INT[1][3] - k_reverse_all[1][3]*y_INT[0][0]*y_P[1]\n",
    "dR1_true = -k_forward_all[0][0]*y_INT[0][0]*y_R[0] + k_reverse_all[0][0]*y_INT[0][1]\n",
    "dR2_true = -k_forward_all[0][2]*y_INT[0][2]*y_R[1] + k_reverse_all[0][2]*y_INT[0][3] \\\n",
    "        -k_forward_all[1][2]*y_INT[1][2]*y_R[1] + k_reverse_all[1][2]*y_INT[1][3]"
   ]
  },
  {
   "cell_type": "code",
   "execution_count": 12,
   "metadata": {},
   "outputs": [
    {
     "data": {
      "text/plain": [
       "0.0"
      ]
     },
     "execution_count": 12,
     "metadata": {},
     "output_type": "execute_result"
    }
   ],
   "source": [
    "dRa_dt(y, k_forward_all, k_reverse_all, rxn_network, Rp_, Pp_, 0, n_INT_all) - dR1_true\n",
    "dPa_dt(y, k_forward_all, k_reverse_all, rxn_network, Rp_, Pp_, 0, n_INT_all) - dP1_true"
   ]
  },
  {
   "attachments": {},
   "cell_type": "markdown",
   "metadata": {},
   "source": [
    "# forming system of DE"
   ]
  },
  {
   "cell_type": "code",
   "execution_count": 13,
   "metadata": {},
   "outputs": [],
   "source": [
    "def kinetic_system_de(t, y, k_forward_all, k_reverse_all, rxn_network, Rp_, Pp_, n_INT_all):\n",
    "    \n",
    "    \"\"\"\"Forming the system of DE for kinetic modelling\"\"\"\n",
    "    \n",
    "    \n",
    "    k = rxn_network.shape[0] + Rp_[0].shape[1] + Pp_[0].shape[1]\n",
    "    dydt = [None for _ in range(k)] \n",
    "    for i in range(np.sum(n_INT_all)):\n",
    "        \n",
    "        mori = np.cumsum(n_INT_all) \n",
    "        cn_ = np.searchsorted(mori, i, side='right')\n",
    "\n",
    "        a_ = i\n",
    "        if cn_ > 0:\n",
    "            if cn_ == 1: tmp = np.count_nonzero(rxn_network[mori[cn_-1]:mori[cn_], 0:mori[cn_-1]], axis =1)\n",
    "            else: tmp = np.count_nonzero(rxn_network[mori[cn_-1]:mori[cn_], mori[cn_-2]:mori[cn_-1]], axis =1)\n",
    "            incr = np.count_nonzero(tmp)\n",
    "            a_ -=  incr\n",
    "        \n",
    "        dydt[i] = dINTa_dt(y, k_forward_all, k_reverse_all, rxn_network, Rp_, Pp_, a_, cn_, n_INT_all)\n",
    "    \n",
    "    for i in range(Rp_[0].shape[1]):\n",
    "        dydt[i+rxn_network.shape[0]] = dRa_dt(y, k_forward_all, k_reverse_all, rxn_network, Rp_, Pp_, i, n_INT_all)\n",
    "\n",
    "    for i in range(Pp_[0].shape[1]):\n",
    "        dydt[i+rxn_network.shape[0] + Rp_[0].shape[1]] = dPa_dt(y, k_forward_all, k_reverse_all, rxn_network, Rp_, Pp_, i, n_INT_all)\n",
    "        \n",
    "    return dydt"
   ]
  },
  {
   "cell_type": "code",
   "execution_count": null,
   "metadata": {},
   "outputs": [],
   "source": []
  },
  {
   "attachments": {},
   "cell_type": "markdown",
   "metadata": {},
   "source": [
    "# Improvment"
   ]
  },
  {
   "cell_type": "code",
   "execution_count": 1,
   "metadata": {},
   "outputs": [
    {
     "data": {
      "text/plain": [
       "_StoreAction(option_strings=['-de', '--de'], dest='de', nargs=None, const=None, default='LSODA', type=<class 'str'>, choices=None, required=False, help='Integration method to use (odesolver)', metavar=None)"
      ]
     },
     "execution_count": 1,
     "metadata": {},
     "output_type": "execute_result"
    }
   ],
   "source": [
    "from kinetic_solver_v2 import *\n",
    "import argparse \n",
    "from scipy.integrate import solve_ivp\n",
    "from scipy.sparse import diags\n",
    "from scipy.sparse.linalg import LinearOperator\n",
    "# from jax.config import config\n",
    "\n",
    "# Input\n",
    "parser = argparse.ArgumentParser(\n",
    "    description='Perform kinetic modelling given the free energy profile and mechanism detail')\n",
    "\n",
    "parser.add_argument(\n",
    "    \"-i\",\n",
    "    help=\"input reaction profiles in csv\"\n",
    "    )\n",
    "\n",
    "parser.add_argument(\"-a\", \n",
    "                    help=\"manually add an input reaction profile in csv\", \n",
    "                    action=\"append\")\n",
    "\n",
    "parser.add_argument(\n",
    "    \"-c\",\n",
    "    \"--c\",\n",
    "    type=str,\n",
    "    default=\"c0.txt\",\n",
    "    help=\"text file containing initial concentration of all species [[INTn], [Rn], [Pn]]\")\n",
    "\n",
    "parser.add_argument(\n",
    "    \"-r\",\n",
    "    \"--r\",\n",
    "    type=str,\n",
    "    default=\"Rp.txt\",\n",
    "    help=\"reactant position matrix\")\n",
    "\n",
    "parser.add_argument(\n",
    "    \"-p\",\n",
    "    \"--p\",\n",
    "    type=str,\n",
    "    default=\"Pp.txt\",\n",
    "    help=\"product position matrix\")\n",
    "\n",
    "parser.add_argument(\n",
    "    \"-rn\",\n",
    "    \"--rn\",\n",
    "    type=str,\n",
    "    default=\"rxn_network,csv\",\n",
    "    help=\"reaction network matrix\")\n",
    "\n",
    "parser.add_argument(\n",
    "    \"--Time\",\n",
    "    type=float,\n",
    "    default=1e8,\n",
    "    help=\"total reaction time (s)\")\n",
    "\n",
    "parser.add_argument(\n",
    "    \"-t\",\n",
    "    \"--t\",\n",
    "    type=float,\n",
    "    default=298.15,\n",
    "    help=\"temperature (K)\")\n",
    "\n",
    "parser.add_argument(\n",
    "    \"-de\",\n",
    "    \"--de\",\n",
    "    type=str,\n",
    "    default=\"LSODA\",\n",
    "    help=\"Integration method to use (odesolver)\")\n"
   ]
  },
  {
   "cell_type": "code",
   "execution_count": 2,
   "metadata": {},
   "outputs": [],
   "source": [
    "dir = \"test_cases/HBpin/\"\n",
    "\n",
    "args = parser.parse_args(['-i', f\"{dir}/reaction_data\", \n",
    "                          '-c', f\"{dir}/c0.txt\",\n",
    "                          \"-r\", f\"{dir}/Rp.txt\",\n",
    "                          \"-rn\", f\"{dir}/rxn_network.csv\",\n",
    "                          \"-p\", f\"{dir}/Pp.txt\",\n",
    "                          ])\n",
    "\n",
    "initial_conc, Rp, Pp, t_span, temperature, method, energy_profile_all, dgr_all, coeff_TS_all, rxn_network = load_data(args)\n",
    "k_forward_all, k_reverse_all, Rp_, Pp_, n_INT_all = process_data(Rp, Pp, energy_profile_all, dgr_all, coeff_TS_all, rxn_network, temperature)\n",
    "\n",
    "y = initial_conc.copy()"
   ]
  },
  {
   "cell_type": "code",
   "execution_count": 6,
   "metadata": {},
   "outputs": [],
   "source": [
    "from scipy.sparse import csr_matrix\n",
    "import autograd.numpy as anp\n",
    "from autograd import jacobian\n",
    "\n",
    "def system_KE(\n",
    "        k_forward_all,\n",
    "        k_reverse_all,\n",
    "        rxn_network,\n",
    "        Rp_,\n",
    "        Pp_,\n",
    "        n_INT_all,\n",
    "        initial_conc,\n",
    "        jac_method=\"ag\"):\n",
    "    \"\"\"\"Forming the system of DE for kinetic modelling, inspried by get_dydt from overreact module\n",
    "\n",
    "    Returns\n",
    "    -------\n",
    "    dydt : callable\n",
    "        Reaction rate function. The actual reaction rate constants employed\n",
    "        are stored in the attribute `k` of the returned function. If JAX is\n",
    "        available, the attribute `jac` will hold the Jacobian function of\n",
    "        `dydt`\n",
    "    \"\"\"\n",
    "    k = rxn_network.shape[0] + Rp_[0].shape[1] + Pp_[0].shape[1]\n",
    "\n",
    "    # to enforce boundary condition and the contraint\n",
    "    #TODO when violated, assigning y and dydt could be better than this\n",
    "    def bound_decorator(bounds):\n",
    "        def decorator(func):\n",
    "            def wrapper(t, y):\n",
    "                \n",
    "                dy_dt = func(t, y)\n",
    "                \n",
    "                for i in range(len(y)):\n",
    "                    if y[i] < bounds[i][0]:\n",
    "                        print(f\"{i} {y[i]}violated\")\n",
    "                        dy_dt[i] += (bounds[i][0] - y[i])/2\n",
    "                        y[i] = bounds[i][0] \n",
    "                    elif y[i] > bounds[i][1]:\n",
    "                        dy_dt[i] -= (y[i] - bounds[i][1])/2\n",
    "                        y[i] = bounds[i][1] \n",
    "                        dy_dt[i] = 0\n",
    "                        print(f\"{i} {y[i]}violated\")\n",
    "\n",
    "                \n",
    "                return dy_dt\n",
    "            return wrapper\n",
    "        return decorator\n",
    "\n",
    "    tolerance = 0.05\n",
    "    boundary = []\n",
    "    # boundary = [(0, np.sum(initial_conc))]*k\n",
    "    for i in range(k):\n",
    "        if i == 0: boundary.append((0-tolerance, initial_conc[0]+tolerance))\n",
    "        elif i >= rxn_network.shape[0] and i < rxn_network.shape[0] + Rp_[0].shape[1]:\n",
    "            boundary.append((0-tolerance, initial_conc[i]+tolerance))\n",
    "        else: boundary.append((0-tolerance, np.sum(initial_conc)+tolerance))\n",
    "\n",
    "    @bound_decorator(boundary)\n",
    "    def _dydt(t, y):\n",
    "        \n",
    "        try:\n",
    "            assert len(y) == Rp_[0].shape[1] + \\\n",
    "                Pp_[0].shape[1] + rxn_network.shape[0]\n",
    "        except AssertionError:\n",
    "            print(\n",
    "                \"WARNING: The species number does not seem to match the sizes of network matrix.\"\n",
    "            )\n",
    "            sys.exit(\"check your input\")\n",
    "            \n",
    "        dydt = [None for _ in range(k)]\n",
    "        for i in range(np.sum(n_INT_all)):\n",
    "\n",
    "            mori = np.cumsum(n_INT_all)\n",
    "            cn_ = np.searchsorted(mori, i, side='right')\n",
    "\n",
    "        for i in range(np.sum(n_INT_all)):\n",
    "            mori = np.cumsum(n_INT_all)\n",
    "            cn_ = np.searchsorted(mori, i, side='right')\n",
    "            a_ = i\n",
    "            if cn_ > 0:\n",
    "                incr = 0\n",
    "                if np.all(rxn_network[np.cumsum(n_INT_all)[\n",
    "                        cn_ - 1]:np.cumsum(n_INT_all)[cn_], 0] == 0):\n",
    "                    cp_idx = np.where(rxn_network[np.cumsum(n_INT_all)[\n",
    "                                    cn_ - 1]:np.cumsum(n_INT_all)[cn_], :][0] == -1)\n",
    "                    tmp_idx = cp_idx[0][0].copy()\n",
    "                    incr += 1\n",
    "                    while tmp_idx != 0:\n",
    "                        tmp_idx = np.where((rxn_network[tmp_idx, :] == -1))[0][0]\n",
    "                        incr += 1\n",
    "\n",
    "                else:\n",
    "                    for j in range(rxn_network.shape[0]):\n",
    "                        if j >= np.cumsum(n_INT_all)[\n",
    "                                cn_ - 1] and j <= np.cumsum(n_INT_all)[cn_]:\n",
    "                            continue\n",
    "                        else:\n",
    "                            if np.any(rxn_network[np.cumsum(n_INT_all)[\n",
    "                                    cn_ - 1]:np.cumsum(n_INT_all)[cn_], j]):\n",
    "                                incr += 1\n",
    "            if cn_ >= 1:\n",
    "                a_ -= mori[cn_ - 1] - incr\n",
    "            elif cn_ > 0:\n",
    "                a_ -= incr\n",
    "\n",
    "            dydt[i] = dINTa_dt(\n",
    "                y,\n",
    "                k_forward_all,\n",
    "                k_reverse_all,\n",
    "                rxn_network,\n",
    "                Rp_,\n",
    "                Pp_,\n",
    "                a_,\n",
    "                cn_,\n",
    "                n_INT_all)\n",
    "\n",
    "        for i in range(Rp_[0].shape[1]):\n",
    "            dydt[i + rxn_network.shape[0]] = dRa_dt(y,\n",
    "                                                    k_forward_all,\n",
    "                                                    k_reverse_all,\n",
    "                                                    rxn_network,\n",
    "                                                    Rp_,\n",
    "                                                    Pp_,\n",
    "                                                    i,\n",
    "                                                    n_INT_all)\n",
    "\n",
    "        for i in range(Pp_[0].shape[1]):\n",
    "            dydt[i + rxn_network.shape[0] + Rp_[0].shape[1]\n",
    "                ] = dPa_dt(y, k_forward_all, k_reverse_all, rxn_network, Rp_, Pp_, i, n_INT_all)\n",
    "            \n",
    "        dydt = anp.array(dydt)\n",
    "        \n",
    "        return dydt\n",
    "    \n",
    "    def jacobian_cd(t, y):\n",
    "        # Compute the Jacobian matrix of f with respect to y at the point y\n",
    "        eps = np.finfo(float).eps\n",
    "        n = len(y)\n",
    "        J = np.zeros((n, n))\n",
    "        for i in range(n):\n",
    "            ei = np.zeros(n)\n",
    "            ei[i] = 1.0\n",
    "            y_plus = y + eps*ei\n",
    "            y_minus = y - eps*ei\n",
    "            df_dy = (_dydt(t, y_plus) - _dydt(t, y_minus)) / (2*eps)\n",
    "            J[:, i] = df_dy\n",
    "        return J\n",
    "    \n",
    "    def jacobian_csa(t, y):\n",
    "        # Define the size of the Jacobian matrix\n",
    "        h=1e-20 # step size\n",
    "        n = len(y)\n",
    "        # Compute the Jacobian matrix using complex step approximation\n",
    "        jac = np.zeros((n, n))\n",
    "        for i in range(n):\n",
    "            y_csa = y + 1j*np.zeros(n)\n",
    "            y_csa[i] += 1j*h\n",
    "            f_csa = _dydt(t, y_csa)\n",
    "            jac[:, i] = np.imag(f_csa) / h\n",
    "        return jac\n",
    "    \n",
    "    if jac_method == \"cd\": _dydt.jac = jacobian_cd\n",
    "    elif jac_method == \"ag\": _dydt.jac = jacobian(_dydt, argnum=1)\n",
    "    elif jac_method == \"csa\": _dydt.jac = jacobian_csa\n",
    "        \n",
    "    return _dydt\n"
   ]
  },
  {
   "cell_type": "code",
   "execution_count": 7,
   "metadata": {},
   "outputs": [
    {
     "name": "stdout",
     "output_type": "stream",
     "text": [
      "The output directort already exists\n"
     ]
    },
    {
     "name": "stderr",
     "output_type": "stream",
     "text": [
      "mv: cannot move 'output' to 'test_cases/HBpin/output': Directory not empty\n"
     ]
    },
    {
     "data": {
      "image/png": "[encoded data removed]",
      "text/plain": [
       "<Figure size 800x600 with 1 Axes>"
      ]
     },
     "metadata": {},
     "output_type": "display_data"
    }
   ],
   "source": [
    "import autograd.numpy as anp\n",
    "from autograd import jacobian\n",
    "\n",
    "dydt = system_KE(\n",
    "        k_forward_all,\n",
    "        k_reverse_all,\n",
    "        rxn_network,\n",
    "        Rp_,\n",
    "        Pp_,\n",
    "        n_INT_all,\n",
    "        initial_conc,\n",
    "        \"ag\")\n",
    "\n",
    "t_span =(0, 1e5)\n",
    "result_solve_ivp = solve_ivp(\n",
    "    dydt,\n",
    "    t_span,\n",
    "    initial_conc,\n",
    "    method=\"BDF\",\n",
    "    dense_output=True,\n",
    "    # first_step=first_step,\n",
    "    # max_step=max_step,\n",
    "    rtol=1e-3,\n",
    "    atol=1e-6,\n",
    "    jac=dydt.jac,\n",
    ")\n",
    "plot_save(result_solve_ivp, rxn_network, Rp_, Pp_, dir)"
   ]
  },
  {
   "cell_type": "code",
   "execution_count": 33,
   "metadata": {},
   "outputs": [
    {
     "name": "stdout",
     "output_type": "stream",
     "text": [
      "  message: The solver successfully reached the end of the integration interval.\n",
      "  success: True\n",
      "   status: 0\n",
      "        t: [ 0.000e+00  9.990e-04 ...  9.429e+00  1.000e+01]\n",
      "        y: [[ 1.000e+00  1.000e+00 ... -9.999e-01 -8.375e-01]\n",
      "            [ 0.000e+00 -9.990e-04 ...  7.316e-03  5.461e-01]]\n",
      "      sol: None\n",
      " t_events: None\n",
      " y_events: None\n",
      "     nfev: 86\n",
      "     njev: 0\n",
      "      nlu: 0\n"
     ]
    }
   ],
   "source": [
    "import numpy as np\n",
    "from scipy.integrate import solve_ivp\n",
    "from scipy.sparse import diags\n",
    "from scipy.sparse.linalg import LinearOperator\n",
    "\n",
    "def dydt(t, y):\n",
    "    return np.array([y[1], -y[0]])\n",
    "\n",
    "def jacobian(t, y):\n",
    "    eps = np.finfo(float).eps\n",
    "    n = y.size\n",
    "    J = np.zeros((n, n))\n",
    "\n",
    "    for i in range(n):\n",
    "        ei = np.zeros_like(y)\n",
    "        ei[i] = 1.0\n",
    "        J[:, i] = (dydt(t, y + eps*ei) - dydt(t, y)) / eps\n",
    "        J[:, i] += (dydt(t, y + eps*ei) - dydt(t, y - eps*ei)) / (2*eps)\n",
    "\n",
    "    J_sparse = diags(J.diagonal(), offsets=0)\n",
    "    J_sparse += diags(J.diagonal(-1), offsets=-1)\n",
    "    J_sparse += diags(J.diagonal(1), offsets=1)\n",
    "\n",
    "    return LinearOperator((n, n), lambda x: J_sparse.dot(x), dtype=np.float64)\n",
    "\n",
    "# Define initial conditions and time span\n",
    "y0 = np.array([1.0, 0.0])\n",
    "t_span = (0.0, 10.0)\n",
    "\n",
    "# Solve the ODE using solve_ivp\n",
    "sol = solve_ivp(dydt, t_span, y0, jac=jacobian)\n",
    "\n",
    "# Print the solution\n",
    "print(sol)"
   ]
  },
  {
   "cell_type": "code",
   "execution_count": 14,
   "metadata": {},
   "outputs": [
    {
     "data": {
      "text/plain": [
       "<2x2 _CustomLinearOperator with dtype=float64>"
      ]
     },
     "execution_count": 14,
     "metadata": {},
     "output_type": "execute_result"
    }
   ],
   "source": [
    "x = jacobian(0, y0)\n",
    "x"
   ]
  },
  {
   "cell_type": "code",
   "execution_count": 15,
   "metadata": {},
   "outputs": [
    {
     "name": "stdout",
     "output_type": "stream",
     "text": [
      "[[1.00000000e+00 1.49767044e+00 2.89730452e+00 5.45761205e+00\n",
      "  9.43219743e+00 1.82021689e+01 2.81268631e+01 6.15774907e+01\n",
      "  8.08315916e+01 1.17581305e+02 1.89752062e+02 3.96109875e+02\n",
      "  5.37644402e+02 8.36540195e+02 1.29275432e+03 2.84409544e+03\n",
      "  3.73826515e+03 5.45253148e+03 8.78188801e+03 1.83751739e+04\n",
      "  2.48625944e+04 3.84305813e+04 5.96364702e+04 1.33091919e+05\n",
      "  1.75533560e+05 2.57718772e+05 4.13321042e+05 8.69458368e+05\n",
      "  1.16836930e+06 1.78047735e+06 2.78803092e+06 6.42448717e+06\n",
      "  8.53922617e+06 1.27295081e+07 2.02158412e+07 4.91023747e+07\n",
      "  6.61285493e+07 1.01233202e+08 1.58055767e+08 3.60407501e+08\n",
      "  4.77816187e+08 7.08690335e+08 1.12914922e+09 2.39420892e+09\n",
      "  3.18535968e+09 4.75741743e+09 7.54625380e+09 1.82444346e+10\n",
      "  2.45417899e+10 3.74790169e+10 5.86067582e+10 1.34380311e+11\n",
      "  1.78396571e+11 2.65297402e+11 4.21978371e+11 8.96561154e+11\n",
      "  1.18979963e+12 1.76808967e+12 2.81388725e+12 5.97448545e+12\n",
      "  7.93412740e+12 1.18067636e+13 1.87888394e+13 3.98144030e+13\n",
      "  5.29893354e+13 7.91959055e+13 1.24910866e+14 2.95575863e+14]\n",
      " [2.00000000e+00 2.34227867e+00 3.29131045e+00 4.82529126e+00\n",
      "  6.85146903e+00 1.05471894e+01 1.40703316e+01 2.36890977e+01\n",
      "  2.83946995e+01 3.64479213e+01 5.01411570e+01 8.18924724e+01\n",
      "  1.00390698e+02 1.34799217e+02 1.80179929e+02 3.04771172e+02\n",
      "  3.65703293e+02 4.70347816e+02 6.46275139e+02 1.05723938e+03\n",
      "  1.29335761e+03 1.72905737e+03 2.31757996e+03 3.95768940e+03\n",
      "  4.75977547e+03 6.14869856e+03 8.42461098e+03 1.38309033e+04\n",
      "  1.68425180e+04 2.23039441e+04 3.00763414e+04 5.24676227e+04\n",
      "  6.34288687e+04 8.27734954e+04 1.12672521e+05 2.03571495e+05\n",
      "  2.48269634e+05 3.29782634e+05 4.43841248e+05 7.68887526e+05\n",
      "  9.27931422e+05 1.20685406e+06 1.64635903e+06 2.71721764e+06\n",
      "  3.28693724e+06 4.29474205e+06 5.84136007e+06 1.05213439e+07\n",
      "  1.28214308e+07 1.70035085e+07 2.29079514e+07 3.98311342e+07\n",
      "  4.81133370e+07 6.26862157e+07 8.54181630e+07 1.41167895e+08\n",
      "  1.70477873e+08 2.22002989e+08 3.02619874e+08 4.99901001e+08\n",
      "  6.03974917e+08 7.87245639e+08 1.07306610e+09 1.77028907e+09\n",
      "  2.14196340e+09 2.80000252e+09 3.79396414e+09 6.73654504e+09]]\n"
     ]
    }
   ],
   "source": [
    "import autograd.numpy as anp\n",
    "from autograd import jacobian\n",
    "from scipy.integrate import solve_ivp\n",
    "\n",
    "def dydt(t, y):\n",
    "    # Define the function\n",
    "    return anp.array([y[0]**2 + y[1]**3, 3*y[0]*y[1]])\n",
    "\n",
    "# Compute the Jacobian of dydt with respect to y using autograd\n",
    "jacobian_dydt = jacobian(dydt, argnum=1)\n",
    "\n",
    "# Define initial conditions and time span\n",
    "y0 = [1.0, 2.0]\n",
    "t_span = [0.0, 10.0]\n",
    "\n",
    "# Solve the ODE using the RK45 method and the computed Jacobian\n",
    "sol = solve_ivp(dydt, t_span, y0, method='RK45', jac=jacobian_dydt)\n",
    "\n",
    "# Print the solution\n",
    "print(sol.y)"
   ]
  },
  {
   "cell_type": "code",
   "execution_count": null,
   "metadata": {},
   "outputs": [],
   "source": []
  }
 ],
 "metadata": {
  "kernelspec": {
   "display_name": "spectre",
   "language": "python",
   "name": "python3"
  },
  "language_info": {
   "codemirror_mode": {
    "name": "ipython",
    "version": 3
   },
   "file_extension": ".py",
   "mimetype": "text/x-python",
   "name": "python",
   "nbconvert_exporter": "python",
   "pygments_lexer": "ipython3",
   "version": "3.10.9"
  },
  "orig_nbformat": 4,
  "vscode": {
   "interpreter": {
    "hash": "1d4c731d8a64f9690c393bb7ca37aa2f7a723d9e0e1c2290dd8d58d9ea754cf9"
   }
  }
 },
 "nbformat": 4,
 "nbformat_minor": 2
}
